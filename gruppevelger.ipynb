{
 "cells": [
  {
   "cell_type": "code",
   "execution_count": 16,
   "metadata": {},
   "outputs": [],
   "source": [
    "inits = [\"Farman Safi\", \"Harald Ågedal\", \"Aasmund Verpe\", \"Andreas Sanna Rukke\", \"Jon Arne Engan\",\n",
    "         \"Are Stifjell\", \"Synne Graven-Sneltorp\", \"Hans Magnus Torgheim\", \"Marius Bjelde Andersen\", \"Elise Finsrud Kirkebøen\",\n",
    "         \"Lars Jørgen Rostad\", \"Pawel Bieszke\", \"Markus Weberg\", \"Henrik Lund Nossen\", \"Ole-Martin Trønnes\",\n",
    "         \"Znar Zahraee\", \"Sten-Isak Pilzer Brusevold\", \"Håkon Kvamme\", \"Lasse Hangaard\", \"Thormod Nygård\",\n",
    "         \"Sanne Cecilie Thorbjørnsen\", \"Ulrik Sæther Langvik\", \"Ragnar Berglund\", \"Ali Yasar Øzbal\", \"Richard Hornnæs Hovde\",\n",
    "         \"Lars-Petter Lundmark\", \"Tommy-André Olsen\", \"Magnus Luciani Gabrielsen\", \"Andreas Ongstad\", \"Thomas Mickelborg\"]"
   ]
  },
  {
   "cell_type": "code",
   "execution_count": 17,
   "metadata": {},
   "outputs": [
    {
     "data": {
      "text/plain": [
       "30"
      ]
     },
     "execution_count": 17,
     "metadata": {},
     "output_type": "execute_result"
    }
   ],
   "source": [
    "len(inits)"
   ]
  }
 ],
 "metadata": {
  "kernelspec": {
   "display_name": "base",
   "language": "python",
   "name": "python3"
  },
  "language_info": {
   "codemirror_mode": {
    "name": "ipython",
    "version": 3
   },
   "file_extension": ".py",
   "mimetype": "text/x-python",
   "name": "python",
   "nbconvert_exporter": "python",
   "pygments_lexer": "ipython3",
   "version": "3.12.4"
  }
 },
 "nbformat": 4,
 "nbformat_minor": 2
}
