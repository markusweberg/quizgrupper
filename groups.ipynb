{
 "cells": [
  {
   "cell_type": "code",
   "execution_count": 4,
   "metadata": {},
   "outputs": [],
   "source": [
    "names = [\"Farman Safi\", \"Harald Ågedal\", \"Aasmund Verpe\", \"Andreas Sanna Rukke\", \"Jon Arne Engan\",\n",
    "         \"Are Stifjell\", \"Synne Graven-Sneltorp\", \"Hans Magnus Torgheim\", \"Marius Bjelde Andersen\", \"Elise Finsrud Kirkebøen\",\n",
    "         \"Lars Jørgen Rostad\", \"Pawel Bieszke\", \"Markus Weberg\", \"Henrik Lund Nossen\", \"Ole-Martin Trønnes\",\n",
    "         \"Znar Zahraee\", \"Sten-Isak Pilzer Brusevold\", \"Håkon Kvamme\", \"Lasse Hangaard\", \"Thormod Nygård\",\n",
    "         \"Sanne Cecilie Thorbjørnsen\", \"Ulrik Sæther Langvik\", \"Ragnar Berglund\", \"Ali Yasar Øzbal\", \"Richard Hornnæs Hovde\",\n",
    "         \"Lars-Petter Lundmark\", \"Tommy-André Olsen\", \"Magnus Luciani Gabrielsen\", \"Andreas Ongstad\", \"Thomas Mickelborg\"]"
   ]
  },
  {
   "cell_type": "code",
   "execution_count": 154,
   "metadata": {},
   "outputs": [],
   "source": [
    "import random\n",
    "\n",
    "def listsof3(list):\n",
    "    lists = []\n",
    "    iterations = int(len(list) / 3)\n",
    "    \n",
    "    for i in range(iterations):\n",
    "        lists.append([list[i*3], list[i*3+1], list[i*3+2]])\n",
    "\n",
    "    return lists\n",
    "\n",
    "\n",
    "def namegroups(names):\n",
    "    random.shuffle(names)\n",
    "    groups = []\n",
    "\n",
    "    if len(names) < 6:\n",
    "        if len(names) < 4:\n",
    "            print(\"Choose more than 3 names\")\n",
    "        elif len(names) < 5:\n",
    "            groups.append([names[0], names[1]])\n",
    "            groups.append([names[2], names[3]])\n",
    "        else:\n",
    "            groups.append([names[0], names[1]])\n",
    "            groups.append([names[2], names[3], names[4]])\n",
    "    else:\n",
    "        if len(names) % 3 == 1:\n",
    "            groups = listsof3(names)\n",
    "            groups[-1].append(names[-1])\n",
    "\n",
    "\n",
    "        elif len(names) % 3 == 2:\n",
    "            groups = listsof3(names)\n",
    "            groups[-2].append(names[-2])\n",
    "            groups[-1].append(names[-1])\n",
    "        else:\n",
    "            groups = listsof3(names)\n",
    "    \n",
    "    return groups "
   ]
  },
  {
   "cell_type": "code",
   "execution_count": 157,
   "metadata": {},
   "outputs": [
    {
     "data": {
      "text/plain": [
       "[['Thomas Mickelborg',\n",
       "  'Richard Hornnæs Hovde',\n",
       "  'Znar Zahraee',\n",
       "  'Andreas Ongstad'],\n",
       " ['Ali Yasar Øzbal',\n",
       "  'Ragnar Berglund',\n",
       "  'Synne Graven-Sneltorp',\n",
       "  'Markus Weberg']]"
      ]
     },
     "execution_count": 157,
     "metadata": {},
     "output_type": "execute_result"
    }
   ],
   "source": [
    "tempnames = names[:12]\n",
    "listsof3(tempnames)\n",
    "\n",
    "namegroups(names[:8])"
   ]
  }
 ],
 "metadata": {
  "kernelspec": {
   "display_name": "base",
   "language": "python",
   "name": "python3"
  },
  "language_info": {
   "codemirror_mode": {
    "name": "ipython",
    "version": 3
   },
   "file_extension": ".py",
   "mimetype": "text/x-python",
   "name": "python",
   "nbconvert_exporter": "python",
   "pygments_lexer": "ipython3",
   "version": "3.11.5"
  }
 },
 "nbformat": 4,
 "nbformat_minor": 2
}
